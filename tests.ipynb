{
 "cells": [
  {
   "cell_type": "markdown",
   "metadata": {},
   "source": [
    "## POLITIFACT"
   ]
  },
  {
   "cell_type": "markdown",
   "metadata": {},
   "source": [
    "### GNNCL"
   ]
  },
  {
   "cell_type": "markdown",
   "metadata": {},
   "source": [
    "Test set results:\n",
    "- acc: 0.7240\n",
    "- f1_macro: 0.7094\n",
    "- f1_micro: 0.7240\n",
    "- precision: 0.6710\n",
    "- recall: 0.9016\n",
    "- auc: 0.8543\n",
    "- ap: 0.8589"
   ]
  },
  {
   "cell_type": "markdown",
   "metadata": {},
   "source": [
    "### Original GCNFN"
   ]
  },
  {
   "cell_type": "markdown",
   "metadata": {},
   "source": [
    "Test set results:\n",
    "- acc: 0.8824\n",
    "- f1_macro: 0.8798\n",
    "- f1_micro: 0.8824\n",
    "- precision: 0.8677\n",
    "- recall: 0.9203\n",
    "- auc: 0.9291\n",
    "- ap: 0.9393"
   ]
  },
  {
   "cell_type": "markdown",
   "metadata": {},
   "source": [
    "### UPFD-GCNFN"
   ]
  },
  {
   "cell_type": "markdown",
   "metadata": {},
   "source": [
    "Test set results:\n",
    "- acc: 0.8235\n",
    "- f1_macro: 0.8224\n",
    "- f1_micro: 0.8235\n",
    "- precision: 0.8685\n",
    "- recall: 0.7680\n",
    "- auc: 0.8935\n",
    "- ap: 0.8896"
   ]
  },
  {
   "cell_type": "markdown",
   "metadata": {},
   "source": [
    "### UPFD-BiGCN"
   ]
  },
  {
   "cell_type": "markdown",
   "metadata": {},
   "source": [
    "Test set results:\n",
    "- acc: 0.8371\n",
    "- f1_macro: 0.8363\n",
    "- f1_micro: 0.8371\n",
    "- precision: 0.8805\n",
    "- recall: 0.7867\n",
    "- auc: 0.8762\n",
    "- ap: 0.8822"
   ]
  },
  {
   "cell_type": "markdown",
   "metadata": {},
   "source": [
    "### UPFD-GCN"
   ]
  },
  {
   "cell_type": "markdown",
   "metadata": {},
   "source": [
    "Test set results:\n",
    "- acc: 0.8281\n",
    "- f1_macro: 0.8275\n",
    "- f1_micro: 0.8281\n",
    "- precision: 0.8482\n",
    "- recall: 0.8032\n",
    "- auc: 0.8931\n",
    "- ap: 0.9132"
   ]
  },
  {
   "cell_type": "markdown",
   "metadata": {},
   "source": [
    "### UPFD-GAT"
   ]
  },
  {
   "cell_type": "markdown",
   "metadata": {},
   "source": [
    "Test set results:\n",
    "- acc: 0.8281\n",
    "- f1_macro: 0.8269\n",
    "- f1_micro: 0.8281\n",
    "- precision: 0.8852\n",
    "- recall: 0.7598\n",
    "- auc: 0.8881\n",
    "- ap: 0.8868"
   ]
  },
  {
   "cell_type": "markdown",
   "metadata": {},
   "source": [
    "### UPFD-SAGE"
   ]
  },
  {
   "cell_type": "markdown",
   "metadata": {},
   "source": [
    "Test set results:\n",
    "- acc: 0.8281\n",
    "- f1_macro: 0.8275\n",
    "- f1_micro: 0.8281\n",
    "- precision: 0.8564\n",
    "- recall: 0.7960\n",
    "- auc: 0.8901\n",
    "- ap: 0.8867"
   ]
  },
  {
   "cell_type": "markdown",
   "metadata": {},
   "source": [
    "## GOSSIPCOP"
   ]
  },
  {
   "cell_type": "markdown",
   "metadata": {},
   "source": [
    "### GNNCL"
   ]
  },
  {
   "cell_type": "markdown",
   "metadata": {},
   "source": [
    "Test set results:\n",
    "- acc: 0.9349\n",
    "- f1_macro: 0.9345\n",
    "- f1_micro: 0.9349\n",
    "- precision: 0.9074\n",
    "- recall: 0.9694\n",
    "- auc: 0.9693\n",
    "- ap: 0.9494"
   ]
  },
  {
   "cell_type": "markdown",
   "metadata": {},
   "source": [
    "### Original GCNFN"
   ]
  },
  {
   "cell_type": "markdown",
   "metadata": {},
   "source": [
    "Test set results:\n",
    "- acc: 0.9302\n",
    "- f1_macro: 0.9296\n",
    "- f1_micro: 0.9302\n",
    "- precision: 0.8883\n",
    "- recall: 0.9860\n",
    "- auc: 0.9893\n",
    "- ap: 0.9901"
   ]
  },
  {
   "cell_type": "markdown",
   "metadata": {},
   "source": [
    "### UPFD-GCNFN"
   ]
  },
  {
   "cell_type": "markdown",
   "metadata": {},
   "source": [
    "Test set results:\n",
    "- acc: 0.9519\n",
    "- f1_macro: 0.9517\n",
    "- f1_micro: 0.9519\n",
    "- precision: 0.9702\n",
    "- recall: 0.9326\n",
    "- auc: 0.9878\n",
    "- ap: 0.9883"
   ]
  },
  {
   "cell_type": "markdown",
   "metadata": {},
   "source": [
    "### UPFD-BiGCN"
   ]
  },
  {
   "cell_type": "markdown",
   "metadata": {},
   "source": [
    "Test set results:\n",
    "- acc: 0.9109\n",
    "- f1_macro: 0.9104\n",
    "- f1_micro: 0.9109\n",
    "- precision: 0.9168\n",
    "- recall: 0.9051\n",
    "- auc: 0.9676\n",
    "- ap: 0.9663"
   ]
  },
  {
   "cell_type": "markdown",
   "metadata": {},
   "source": [
    "### UPFD-GCN"
   ]
  },
  {
   "cell_type": "markdown",
   "metadata": {},
   "source": [
    "Test set results:\n",
    "- acc: 0.9339\n",
    "- f1_macro: 0.9334\n",
    "- f1_micro: 0.9339\n",
    "- precision: 0.9755\n",
    "- recall: 0.8896\n",
    "- auc: 0.9846\n",
    "- ap: 0.9846"
   ]
  },
  {
   "cell_type": "markdown",
   "metadata": {},
   "source": [
    "### UPFD-GAT"
   ]
  },
  {
   "cell_type": "markdown",
   "metadata": {},
   "source": [
    "Test set results:\n",
    "- acc: 0.9603\n",
    "- f1_macro: 0.9601\n",
    "- f1_micro: 0.9603\n",
    "- precision: 0.9437\n",
    "- recall: 0.9796\n",
    "- auc: 0.9926\n",
    "- ap: 0.9926"
   ]
  },
  {
   "cell_type": "markdown",
   "metadata": {},
   "source": [
    "### UPFD-SAGE"
   ]
  },
  {
   "cell_type": "markdown",
   "metadata": {},
   "source": [
    "Test set results:\n",
    "- acc: 0.9765\n",
    "- f1_macro: 0.9764\n",
    "- f1_micro: 0.9765\n",
    "- precision: 0.9712\n",
    "- recall: 0.9823\n",
    "- auc: 0.9945\n",
    "- ap: 0.9945"
   ]
  },
  {
   "cell_type": "markdown",
   "metadata": {},
   "source": [
    "## Code to plot a graph"
   ]
  },
  {
   "cell_type": "code",
   "execution_count": 1,
   "metadata": {},
   "outputs": [],
   "source": [
    "from torch.utils.data import random_split\n",
    "from torch_geometric.data import DataLoader, DataListLoader\n",
    "\n",
    "from utils.data_loader import *"
   ]
  },
  {
   "cell_type": "code",
   "execution_count": 13,
   "metadata": {},
   "outputs": [
    {
     "data": {
      "text/plain": [
       "Data(edge_index=[2, 61], x=[21, 310], y=[1])"
      ]
     },
     "execution_count": 13,
     "metadata": {},
     "output_type": "execute_result"
    }
   ],
   "source": [
    "sample_id = 1\n",
    "dataset = FNNDataset(root='data', feature='content', empty=False, name='politifact', transform=ToUndirected())\n",
    "dataset[sample_id]"
   ]
  },
  {
   "cell_type": "code",
   "execution_count": 11,
   "metadata": {},
   "outputs": [
    {
     "name": "stdout",
     "output_type": "stream",
     "text": [
      "Requirement already satisfied: networkx in c:\\users\\efuen\\desktop\\el iseo\\master\\rcbi\\gnn-fakenews\\venv\\lib\\site-packages (3.2)\n"
     ]
    },
    {
     "name": "stderr",
     "output_type": "stream",
     "text": [
      "\n",
      "[notice] A new release of pip is available: 23.0.1 -> 23.3\n",
      "[notice] To update, run: python.exe -m pip install --upgrade pip\n"
     ]
    }
   ],
   "source": [
    "!pip install networkx\n",
    "import networkx as nx\n",
    "\n",
    "# From PyG utils\n",
    "def to_networkx(data, node_attrs=None, edge_attrs=None, to_undirected=False,\n",
    "                remove_self_loops=True):\n",
    "    if to_undirected:\n",
    "        G = nx.Graph()\n",
    "    else:\n",
    "        G = nx.DiGraph()\n",
    "    G.add_nodes_from(range(data.num_nodes))\n",
    "    node_attrs, edge_attrs = node_attrs or [], edge_attrs or []\n",
    "    values = {}\n",
    "    for key, item in data(*(node_attrs + edge_attrs)):\n",
    "        if torch.is_tensor(item):\n",
    "            values[key] = item.squeeze().tolist()\n",
    "        else:\n",
    "            values[key] = item\n",
    "        if isinstance(values[key], (list, tuple)) and len(values[key]) == 1:\n",
    "            values[key] = item[0]\n",
    "    for i, (u, v) in enumerate(data.edge_index.t().tolist()):\n",
    "        if to_undirected and v > u:\n",
    "            continue\n",
    "        if remove_self_loops and u == v:\n",
    "            continue\n",
    "        G.add_edge(u, v)\n",
    "        for key in edge_attrs:\n",
    "            G[u][v][key] = values[key][i]\n",
    "    for key in node_attrs:\n",
    "        for i, feat_dict in G.nodes(data=True):\n",
    "            feat_dict.update({key: values[key][i]})\n",
    "    return G"
   ]
  },
  {
   "cell_type": "code",
   "execution_count": 14,
   "metadata": {},
   "outputs": [
    {
     "name": "stdout",
     "output_type": "stream",
     "text": [
      "Requirement already satisfied: matplotlib in c:\\users\\efuen\\desktop\\el iseo\\master\\rcbi\\gnn-fakenews\\venv\\lib\\site-packages (3.8.0)\n",
      "Requirement already satisfied: kiwisolver>=1.0.1 in c:\\users\\efuen\\desktop\\el iseo\\master\\rcbi\\gnn-fakenews\\venv\\lib\\site-packages (from matplotlib) (1.4.5)\n",
      "Requirement already satisfied: fonttools>=4.22.0 in c:\\users\\efuen\\desktop\\el iseo\\master\\rcbi\\gnn-fakenews\\venv\\lib\\site-packages (from matplotlib) (4.43.1)\n",
      "Requirement already satisfied: numpy<2,>=1.21 in c:\\users\\efuen\\desktop\\el iseo\\master\\rcbi\\gnn-fakenews\\venv\\lib\\site-packages (from matplotlib) (1.26.1)\n",
      "Requirement already satisfied: packaging>=20.0 in c:\\users\\efuen\\desktop\\el iseo\\master\\rcbi\\gnn-fakenews\\venv\\lib\\site-packages (from matplotlib) (23.2)\n",
      "Requirement already satisfied: contourpy>=1.0.1 in c:\\users\\efuen\\desktop\\el iseo\\master\\rcbi\\gnn-fakenews\\venv\\lib\\site-packages (from matplotlib) (1.1.1)\n",
      "Requirement already satisfied: pillow>=6.2.0 in c:\\users\\efuen\\desktop\\el iseo\\master\\rcbi\\gnn-fakenews\\venv\\lib\\site-packages (from matplotlib) (10.1.0)\n",
      "Requirement already satisfied: cycler>=0.10 in c:\\users\\efuen\\desktop\\el iseo\\master\\rcbi\\gnn-fakenews\\venv\\lib\\site-packages (from matplotlib) (0.12.1)\n",
      "Requirement already satisfied: python-dateutil>=2.7 in c:\\users\\efuen\\desktop\\el iseo\\master\\rcbi\\gnn-fakenews\\venv\\lib\\site-packages (from matplotlib) (2.8.2)\n",
      "Requirement already satisfied: pyparsing>=2.3.1 in c:\\users\\efuen\\desktop\\el iseo\\master\\rcbi\\gnn-fakenews\\venv\\lib\\site-packages (from matplotlib) (3.1.1)\n",
      "Requirement already satisfied: six>=1.5 in c:\\users\\efuen\\desktop\\el iseo\\master\\rcbi\\gnn-fakenews\\venv\\lib\\site-packages (from python-dateutil>=2.7->matplotlib) (1.16.0)\n"
     ]
    },
    {
     "name": "stderr",
     "output_type": "stream",
     "text": [
      "\n",
      "[notice] A new release of pip is available: 23.0.1 -> 23.3\n",
      "[notice] To update, run: python.exe -m pip install --upgrade pip\n"
     ]
    },
    {
     "data": {
      "image/png": "[encoded data removed]",
      "text/plain": [
       "<Figure size 640x480 with 1 Axes>"
      ]
     },
     "metadata": {},
     "output_type": "display_data"
    }
   ],
   "source": [
    "!pip install matplotlib\n",
    "import matplotlib.pyplot as plt\n",
    "\n",
    "# Después de convertir tus datos en un grafo NetworkX, puedes dibujarlo\n",
    "G = to_networkx(dataset[sample_id])\n",
    "\n",
    "# Configura el diseño del grafo (puedes elegir otro si prefieres)\n",
    "pos = nx.spring_layout(G)\n",
    "\n",
    "# Dibuja los nodos\n",
    "nx.draw(G, pos, with_labels=True, node_color='lightblue', node_size=200)\n",
    "\n",
    "# Dibuja las aristas\n",
    "nx.draw_networkx_edges(G, pos, edge_color='gray')\n",
    "\n",
    "# Muestra el grafo\n",
    "plt.show()"
   ]
  }
 ],
 "metadata": {
  "kernelspec": {
   "display_name": "venv",
   "language": "python",
   "name": "python3"
  },
  "language_info": {
   "codemirror_mode": {
    "name": "ipython",
    "version": 3
   },
   "file_extension": ".py",
   "mimetype": "text/x-python",
   "name": "python",
   "nbconvert_exporter": "python",
   "pygments_lexer": "ipython3",
   "version": "3.10.11"
  }
 },
 "nbformat": 4,
 "nbformat_minor": 2
}
